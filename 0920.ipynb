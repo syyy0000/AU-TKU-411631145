{
  "nbformat": 4,
  "nbformat_minor": 0,
  "metadata": {
    "colab": {
      "provenance": [],
      "authorship_tag": "ABX9TyOxZtahxkzBZ1XEZ5dD2k/I",
      "include_colab_link": true
    },
    "kernelspec": {
      "name": "python3",
      "display_name": "Python 3"
    },
    "language_info": {
      "name": "python"
    }
  },
  "cells": [
    {
      "cell_type": "markdown",
      "metadata": {
        "id": "view-in-github",
        "colab_type": "text"
      },
      "source": [
        "<a href=\"https://colab.research.google.com/github/syyy0000/AU-TKU-411631145/blob/main/0920.ipynb\" target=\"_parent\"><img src=\"https://colab.research.google.com/assets/colab-badge.svg\" alt=\"Open In Colab\"/></a>"
      ]
    },
    {
      "cell_type": "markdown",
      "source": [
        "chinese=int(input('請輸入國文成績請輸入國文成績'))"
      ],
      "metadata": {
        "id": "ngamRnMDAdOu"
      }
    },
    {
      "cell_type": "code",
      "source": [
        "chinese=int(input('請輸入國文成績'))"
      ],
      "metadata": {
        "colab": {
          "base_uri": "https://localhost:8080/"
        },
        "id": "lqrt6L0eE3os",
        "outputId": "e16c6941-eb3b-49b0-aa01-38d5bb6d8044"
      },
      "execution_count": 4,
      "outputs": [
        {
          "name": "stdout",
          "output_type": "stream",
          "text": [
            "請輸入國文成績50\n"
          ]
        }
      ]
    },
    {
      "cell_type": "code",
      "source": [
        "english=int(input(\"請輸入英文成績\"))\n"
      ],
      "metadata": {
        "colab": {
          "base_uri": "https://localhost:8080/"
        },
        "id": "kcm8ckJUFDkZ",
        "outputId": "3892c7b6-b019-4d3b-beec-35531df0ac7f"
      },
      "execution_count": 5,
      "outputs": [
        {
          "name": "stdout",
          "output_type": "stream",
          "text": [
            "請輸入英文成績70\n"
          ]
        }
      ]
    },
    {
      "cell_type": "code",
      "source": [
        "mat=int(input(\"請輸入數學成績\"))\n"
      ],
      "metadata": {
        "colab": {
          "base_uri": "https://localhost:8080/"
        },
        "id": "l936jyAzFlHj",
        "outputId": "5af2ff05-5209-439d-a353-f83af4eb96fa"
      },
      "execution_count": 6,
      "outputs": [
        {
          "name": "stdout",
          "output_type": "stream",
          "text": [
            "請輸入數學成績70\n"
          ]
        }
      ]
    },
    {
      "cell_type": "code",
      "source": [
        "all=chinese+english+mat\n",
        "print(\"你得總成績為:\")\n",
        "print(all)\n"
      ],
      "metadata": {
        "colab": {
          "base_uri": "https://localhost:8080/"
        },
        "id": "OqBqaZXqE9Te",
        "outputId": "ae4ccb31-4236-4548-f098-2669b9d94adf"
      },
      "execution_count": 10,
      "outputs": [
        {
          "output_type": "stream",
          "name": "stdout",
          "text": [
            "你得總成績為:\n",
            "190\n"
          ]
        }
      ]
    },
    {
      "cell_type": "code",
      "source": [
        "up=int(input(\"請輸入梯形上底長度;\"))\n"
      ],
      "metadata": {
        "colab": {
          "base_uri": "https://localhost:8080/"
        },
        "id": "zCc4s4_VHamF",
        "outputId": "3156da48-8c9a-45a1-dbdb-43d504b23072"
      },
      "execution_count": 13,
      "outputs": [
        {
          "name": "stdout",
          "output_type": "stream",
          "text": [
            "請輸入梯形上底長度;3\n"
          ]
        }
      ]
    },
    {
      "cell_type": "markdown",
      "source": [
        "down=int(input(\"請輸入梯形下底長度\"))\n"
      ],
      "metadata": {
        "id": "0y5wJfjoISP9"
      }
    },
    {
      "cell_type": "code",
      "source": [
        "down=int(input(\"請輸入梯形下底長度\"))\n",
        "\n"
      ],
      "metadata": {
        "colab": {
          "base_uri": "https://localhost:8080/"
        },
        "id": "Z__h0VAZI2_X",
        "outputId": "b41b06e7-5875-4a96-8753-41a237dd268c"
      },
      "execution_count": 17,
      "outputs": [
        {
          "name": "stdout",
          "output_type": "stream",
          "text": [
            "請輸入梯形下底長度4\n"
          ]
        }
      ]
    },
    {
      "cell_type": "code",
      "source": [
        "high=int(input(\"請輸入梯形高\"))"
      ],
      "metadata": {
        "colab": {
          "base_uri": "https://localhost:8080/"
        },
        "id": "P8_5KSa8JGHv",
        "outputId": "35245885-298f-42c7-9a87-99c8286de9cf"
      },
      "execution_count": 18,
      "outputs": [
        {
          "name": "stdout",
          "output_type": "stream",
          "text": [
            "請輸入梯形高3\n"
          ]
        }
      ]
    },
    {
      "cell_type": "code",
      "source": [
        "area=(up+down)*high/2\n",
        "print(\"梯形面積為\")\n",
        "print(area)"
      ],
      "metadata": {
        "colab": {
          "base_uri": "https://localhost:8080/"
        },
        "id": "stLwL0JEJvz6",
        "outputId": "ca198618-ec9d-45b6-f6d9-36fd74cef0f1"
      },
      "execution_count": 20,
      "outputs": [
        {
          "output_type": "stream",
          "name": "stdout",
          "text": [
            "梯形面積為\n",
            "10.5\n"
          ]
        }
      ]
    }
  ]
}